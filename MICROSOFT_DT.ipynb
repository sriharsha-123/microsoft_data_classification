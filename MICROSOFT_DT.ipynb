{
 "cells": [
  {
   "cell_type": "code",
   "execution_count": 64,
   "metadata": {},
   "outputs": [],
   "source": [
    "\n",
    "import pandas as pd\n",
    "import numpy as np\n",
    "from scipy.stats import chi2_contingency,f_oneway\n",
    "import warnings\n",
    "warnings.filterwarnings(\"ignore\")\n",
    "from sklearn.model_selection import train_test_split\n",
    "from sklearn.preprocessing import StandardScaler\n",
    "from sklearn.linear_model import LogisticRegression\n",
    "from sklearn.metrics import accuracy_score,precision_score,f1_score,confusion_matrix,roc_auc_score,roc_curve\n",
    "import matplotlib.pyplot as plt"
   ]
  },
  {
   "cell_type": "code",
   "execution_count": 2,
   "metadata": {},
   "outputs": [
    {
     "data": {
      "text/plain": [
       "(56756, 83)"
      ]
     },
     "execution_count": 2,
     "metadata": {},
     "output_type": "execute_result"
    }
   ],
   "source": [
    "ms_df=pd.read_csv(\"Microsoft_Data.csv\")\n",
    "ms_df.shape"
   ]
  },
  {
   "cell_type": "code",
   "execution_count": 3,
   "metadata": {},
   "outputs": [],
   "source": [
    "0## non sence\n",
    "non_sence=[]\n",
    "for col in ms_df:\n",
    "    if len(ms_df[col].value_counts())==1 or len(ms_df[col].value_counts())==ms_df.shape[0]:\n",
    "        non_sence.append(col)\n",
    "non_sence\n",
    "ms_df.drop(columns=non_sence,inplace=True)\n"
   ]
  },
  {
   "cell_type": "code",
   "execution_count": 4,
   "metadata": {},
   "outputs": [
    {
     "data": {
      "text/plain": [
       "(56756, 76)"
      ]
     },
     "execution_count": 4,
     "metadata": {},
     "output_type": "execute_result"
    }
   ],
   "source": [
    "ms_df.shape"
   ]
  },
  {
   "cell_type": "code",
   "execution_count": 5,
   "metadata": {},
   "outputs": [
    {
     "data": {
      "text/plain": [
       "['EngineVersion',\n",
       " 'AppVersion',\n",
       " 'AvSigVersion',\n",
       " 'Platform',\n",
       " 'Processor',\n",
       " 'OsPlatformSubRelease',\n",
       " 'OsBuildLab',\n",
       " 'SkuEdition',\n",
       " 'SmartScreen',\n",
       " 'Census_MDC2FormFactor',\n",
       " 'Census_DeviceFamily',\n",
       " 'Census_ProcessorClass',\n",
       " 'Census_PrimaryDiskTypeName',\n",
       " 'Census_ChassisTypeName',\n",
       " 'Census_PowerPlatformRoleName',\n",
       " 'Census_InternalBatteryType',\n",
       " 'Census_OSVersion',\n",
       " 'Census_OSArchitecture',\n",
       " 'Census_OSBranch',\n",
       " 'Census_OSEdition',\n",
       " 'Census_OSSkuName',\n",
       " 'Census_OSInstallTypeName',\n",
       " 'Census_OSWUAutoUpdateOptionsName',\n",
       " 'Census_GenuineStateName',\n",
       " 'Census_ActivationChannel',\n",
       " 'Census_FlightRing']"
      ]
     },
     "execution_count": 5,
     "metadata": {},
     "output_type": "execute_result"
    }
   ],
   "source": [
    "## correlation check cat to cat\n",
    "correlated_columns_chi=[]\n",
    "\n",
    "for col in ms_df:\n",
    "    if ms_df[col].dtype==\"object\":\n",
    "        new=pd.crosstab(ms_df[col],ms_df[\"HasDetections\"])\n",
    "        result=chi2_contingency(new)\n",
    "        if result[1]<0.5:   # result will get in the tuple format index 1 denotie dthe p_value\n",
    "            correlated_columns_chi.append(col)\n",
    "correlated_columns_chi  ## -----> index \n",
    "\n",
    "        \n"
   ]
  },
  {
   "cell_type": "code",
   "execution_count": 6,
   "metadata": {},
   "outputs": [
    {
     "data": {
      "text/plain": [
       "['EngineVersion',\n",
       " 'AppVersion',\n",
       " 'AvSigVersion',\n",
       " 'Platform',\n",
       " 'Processor',\n",
       " 'OsPlatformSubRelease',\n",
       " 'OsBuildLab',\n",
       " 'SkuEdition',\n",
       " 'SmartScreen',\n",
       " 'Census_MDC2FormFactor',\n",
       " 'Census_DeviceFamily',\n",
       " 'Census_ProcessorClass',\n",
       " 'Census_PrimaryDiskTypeName',\n",
       " 'Census_ChassisTypeName',\n",
       " 'Census_PowerPlatformRoleName',\n",
       " 'Census_InternalBatteryType',\n",
       " 'Census_OSVersion',\n",
       " 'Census_OSArchitecture',\n",
       " 'Census_OSBranch',\n",
       " 'Census_OSEdition',\n",
       " 'Census_OSSkuName',\n",
       " 'Census_OSInstallTypeName',\n",
       " 'Census_OSWUAutoUpdateOptionsName',\n",
       " 'Census_GenuineStateName',\n",
       " 'Census_ActivationChannel',\n",
       " 'Census_FlightRing',\n",
       " 'IsSxsPassiveMode',\n",
       " 'CountryIdentifier',\n",
       " 'LocaleEnglishNameIdentifier',\n",
       " 'OsBuild',\n",
       " 'OsSuite',\n",
       " 'Census_HasOpticalDiskDrive',\n",
       " 'Census_OSBuildNumber',\n",
       " 'Census_OSBuildRevision',\n",
       " 'Census_OSUILocaleIdentifier',\n",
       " 'Census_IsTouchEnabled',\n",
       " 'Census_IsPenCapable',\n",
       " 'HasDetections']"
      ]
     },
     "execution_count": 6,
     "metadata": {},
     "output_type": "execute_result"
    }
   ],
   "source": [
    "## correlation cont to cat\n",
    "## args * ---> it passes columns one by one to f_oneway\n",
    "corr_columns_anova=[]\n",
    "for col in ms_df:\n",
    "    if ms_df[col].dtype==\"int64\" or ms_df[col].dtype==\"float64\":\n",
    "        result=list(ms_df[\"HasDetections\"].value_counts().index)\n",
    "        new=f_oneway(*(ms_df[ms_df[\"HasDetections\"]==calls][col] for calls in result))\n",
    "        \n",
    "        if new[1]<0.05:\n",
    "            \n",
    "            corr_columns_anova.append(col)\n",
    "corr_columns_anova\n",
    "corr_df=correlated_columns_chi+corr_columns_anova\n",
    " \n",
    "corr_df"
   ]
  },
  {
   "cell_type": "code",
   "execution_count": 7,
   "metadata": {},
   "outputs": [
    {
     "data": {
      "text/html": [
       "<div>\n",
       "<style scoped>\n",
       "    .dataframe tbody tr th:only-of-type {\n",
       "        vertical-align: middle;\n",
       "    }\n",
       "\n",
       "    .dataframe tbody tr th {\n",
       "        vertical-align: top;\n",
       "    }\n",
       "\n",
       "    .dataframe thead th {\n",
       "        text-align: right;\n",
       "    }\n",
       "</style>\n",
       "<table border=\"1\" class=\"dataframe\">\n",
       "  <thead>\n",
       "    <tr style=\"text-align: right;\">\n",
       "      <th></th>\n",
       "      <th>EngineVersion</th>\n",
       "      <th>AppVersion</th>\n",
       "      <th>AvSigVersion</th>\n",
       "      <th>Platform</th>\n",
       "      <th>Processor</th>\n",
       "      <th>OsPlatformSubRelease</th>\n",
       "      <th>OsBuildLab</th>\n",
       "      <th>SkuEdition</th>\n",
       "      <th>SmartScreen</th>\n",
       "      <th>Census_MDC2FormFactor</th>\n",
       "      <th>...</th>\n",
       "      <th>LocaleEnglishNameIdentifier</th>\n",
       "      <th>OsBuild</th>\n",
       "      <th>OsSuite</th>\n",
       "      <th>Census_HasOpticalDiskDrive</th>\n",
       "      <th>Census_OSBuildNumber</th>\n",
       "      <th>Census_OSBuildRevision</th>\n",
       "      <th>Census_OSUILocaleIdentifier</th>\n",
       "      <th>Census_IsTouchEnabled</th>\n",
       "      <th>Census_IsPenCapable</th>\n",
       "      <th>HasDetections</th>\n",
       "    </tr>\n",
       "  </thead>\n",
       "  <tbody>\n",
       "    <tr>\n",
       "      <th>0</th>\n",
       "      <td>1.1.15100.1</td>\n",
       "      <td>4.18.1807.18075</td>\n",
       "      <td>1.273.1735.0</td>\n",
       "      <td>windows10</td>\n",
       "      <td>x64</td>\n",
       "      <td>rs4</td>\n",
       "      <td>17134.1.amd64fre.rs4_release.180410-1804</td>\n",
       "      <td>Pro</td>\n",
       "      <td>NaN</td>\n",
       "      <td>Desktop</td>\n",
       "      <td>...</td>\n",
       "      <td>171</td>\n",
       "      <td>17134</td>\n",
       "      <td>256</td>\n",
       "      <td>0</td>\n",
       "      <td>17134</td>\n",
       "      <td>165</td>\n",
       "      <td>119</td>\n",
       "      <td>0</td>\n",
       "      <td>0</td>\n",
       "      <td>0</td>\n",
       "    </tr>\n",
       "    <tr>\n",
       "      <th>1</th>\n",
       "      <td>1.1.14600.4</td>\n",
       "      <td>4.13.17134.1</td>\n",
       "      <td>1.263.48.0</td>\n",
       "      <td>windows10</td>\n",
       "      <td>x64</td>\n",
       "      <td>rs4</td>\n",
       "      <td>17134.1.amd64fre.rs4_release.180410-1804</td>\n",
       "      <td>Pro</td>\n",
       "      <td>NaN</td>\n",
       "      <td>Notebook</td>\n",
       "      <td>...</td>\n",
       "      <td>64</td>\n",
       "      <td>17134</td>\n",
       "      <td>256</td>\n",
       "      <td>0</td>\n",
       "      <td>17134</td>\n",
       "      <td>1</td>\n",
       "      <td>31</td>\n",
       "      <td>0</td>\n",
       "      <td>0</td>\n",
       "      <td>0</td>\n",
       "    </tr>\n",
       "    <tr>\n",
       "      <th>2</th>\n",
       "      <td>1.1.15100.1</td>\n",
       "      <td>4.18.1807.18075</td>\n",
       "      <td>1.273.1341.0</td>\n",
       "      <td>windows10</td>\n",
       "      <td>x64</td>\n",
       "      <td>rs4</td>\n",
       "      <td>17134.1.amd64fre.rs4_release.180410-1804</td>\n",
       "      <td>Home</td>\n",
       "      <td>RequireAdmin</td>\n",
       "      <td>Desktop</td>\n",
       "      <td>...</td>\n",
       "      <td>49</td>\n",
       "      <td>17134</td>\n",
       "      <td>768</td>\n",
       "      <td>0</td>\n",
       "      <td>17134</td>\n",
       "      <td>165</td>\n",
       "      <td>30</td>\n",
       "      <td>0</td>\n",
       "      <td>0</td>\n",
       "      <td>0</td>\n",
       "    </tr>\n",
       "    <tr>\n",
       "      <th>3</th>\n",
       "      <td>1.1.15100.1</td>\n",
       "      <td>4.18.1807.18075</td>\n",
       "      <td>1.273.1527.0</td>\n",
       "      <td>windows10</td>\n",
       "      <td>x64</td>\n",
       "      <td>rs4</td>\n",
       "      <td>17134.1.amd64fre.rs4_release.180410-1804</td>\n",
       "      <td>Pro</td>\n",
       "      <td>ExistsNotSet</td>\n",
       "      <td>Desktop</td>\n",
       "      <td>...</td>\n",
       "      <td>115</td>\n",
       "      <td>17134</td>\n",
       "      <td>256</td>\n",
       "      <td>0</td>\n",
       "      <td>17134</td>\n",
       "      <td>228</td>\n",
       "      <td>64</td>\n",
       "      <td>0</td>\n",
       "      <td>0</td>\n",
       "      <td>1</td>\n",
       "    </tr>\n",
       "    <tr>\n",
       "      <th>4</th>\n",
       "      <td>1.1.15100.1</td>\n",
       "      <td>4.18.1807.18075</td>\n",
       "      <td>1.273.1379.0</td>\n",
       "      <td>windows10</td>\n",
       "      <td>x64</td>\n",
       "      <td>rs4</td>\n",
       "      <td>17134.1.amd64fre.rs4_release.180410-1804</td>\n",
       "      <td>Home</td>\n",
       "      <td>RequireAdmin</td>\n",
       "      <td>Notebook</td>\n",
       "      <td>...</td>\n",
       "      <td>75</td>\n",
       "      <td>17134</td>\n",
       "      <td>768</td>\n",
       "      <td>0</td>\n",
       "      <td>17134</td>\n",
       "      <td>191</td>\n",
       "      <td>31</td>\n",
       "      <td>0</td>\n",
       "      <td>0</td>\n",
       "      <td>1</td>\n",
       "    </tr>\n",
       "    <tr>\n",
       "      <th>...</th>\n",
       "      <td>...</td>\n",
       "      <td>...</td>\n",
       "      <td>...</td>\n",
       "      <td>...</td>\n",
       "      <td>...</td>\n",
       "      <td>...</td>\n",
       "      <td>...</td>\n",
       "      <td>...</td>\n",
       "      <td>...</td>\n",
       "      <td>...</td>\n",
       "      <td>...</td>\n",
       "      <td>...</td>\n",
       "      <td>...</td>\n",
       "      <td>...</td>\n",
       "      <td>...</td>\n",
       "      <td>...</td>\n",
       "      <td>...</td>\n",
       "      <td>...</td>\n",
       "      <td>...</td>\n",
       "      <td>...</td>\n",
       "      <td>...</td>\n",
       "    </tr>\n",
       "    <tr>\n",
       "      <th>56751</th>\n",
       "      <td>1.1.15100.1</td>\n",
       "      <td>4.18.1807.18075</td>\n",
       "      <td>1.273.1056.0</td>\n",
       "      <td>windows10</td>\n",
       "      <td>x64</td>\n",
       "      <td>rs3</td>\n",
       "      <td>16299.431.amd64fre.rs3_release_svc_escrow.1805...</td>\n",
       "      <td>Pro</td>\n",
       "      <td>NaN</td>\n",
       "      <td>Notebook</td>\n",
       "      <td>...</td>\n",
       "      <td>182</td>\n",
       "      <td>16299</td>\n",
       "      <td>256</td>\n",
       "      <td>0</td>\n",
       "      <td>16299</td>\n",
       "      <td>547</td>\n",
       "      <td>125</td>\n",
       "      <td>0</td>\n",
       "      <td>0</td>\n",
       "      <td>0</td>\n",
       "    </tr>\n",
       "    <tr>\n",
       "      <th>56752</th>\n",
       "      <td>1.1.15100.1</td>\n",
       "      <td>4.18.1807.18075</td>\n",
       "      <td>1.273.689.0</td>\n",
       "      <td>windows10</td>\n",
       "      <td>x64</td>\n",
       "      <td>rs4</td>\n",
       "      <td>17134.1.amd64fre.rs4_release.180410-1804</td>\n",
       "      <td>Home</td>\n",
       "      <td>ExistsNotSet</td>\n",
       "      <td>Notebook</td>\n",
       "      <td>...</td>\n",
       "      <td>75</td>\n",
       "      <td>17134</td>\n",
       "      <td>768</td>\n",
       "      <td>1</td>\n",
       "      <td>17134</td>\n",
       "      <td>165</td>\n",
       "      <td>31</td>\n",
       "      <td>0</td>\n",
       "      <td>0</td>\n",
       "      <td>1</td>\n",
       "    </tr>\n",
       "    <tr>\n",
       "      <th>56753</th>\n",
       "      <td>1.1.15200.1</td>\n",
       "      <td>4.18.1807.18075</td>\n",
       "      <td>1.275.1454.0</td>\n",
       "      <td>windows10</td>\n",
       "      <td>x64</td>\n",
       "      <td>rs4</td>\n",
       "      <td>17134.1.amd64fre.rs4_release.180410-1804</td>\n",
       "      <td>Home</td>\n",
       "      <td>RequireAdmin</td>\n",
       "      <td>Desktop</td>\n",
       "      <td>...</td>\n",
       "      <td>251</td>\n",
       "      <td>17134</td>\n",
       "      <td>768</td>\n",
       "      <td>0</td>\n",
       "      <td>17134</td>\n",
       "      <td>285</td>\n",
       "      <td>148</td>\n",
       "      <td>0</td>\n",
       "      <td>0</td>\n",
       "      <td>0</td>\n",
       "    </tr>\n",
       "    <tr>\n",
       "      <th>56754</th>\n",
       "      <td>1.1.15100.1</td>\n",
       "      <td>4.18.1807.18075</td>\n",
       "      <td>1.273.1527.0</td>\n",
       "      <td>windows10</td>\n",
       "      <td>x86</td>\n",
       "      <td>rs4</td>\n",
       "      <td>17134.1.x86fre.rs4_release.180410-1804</td>\n",
       "      <td>Pro</td>\n",
       "      <td>RequireAdmin</td>\n",
       "      <td>Desktop</td>\n",
       "      <td>...</td>\n",
       "      <td>64</td>\n",
       "      <td>17134</td>\n",
       "      <td>256</td>\n",
       "      <td>0</td>\n",
       "      <td>17134</td>\n",
       "      <td>228</td>\n",
       "      <td>31</td>\n",
       "      <td>0</td>\n",
       "      <td>0</td>\n",
       "      <td>1</td>\n",
       "    </tr>\n",
       "    <tr>\n",
       "      <th>56755</th>\n",
       "      <td>1.1.15200.1</td>\n",
       "      <td>4.18.1807.18075</td>\n",
       "      <td>1.275.1573.0</td>\n",
       "      <td>windows10</td>\n",
       "      <td>x64</td>\n",
       "      <td>rs4</td>\n",
       "      <td>17134.1.amd64fre.rs4_release.180410-1804</td>\n",
       "      <td>Home</td>\n",
       "      <td>RequireAdmin</td>\n",
       "      <td>Notebook</td>\n",
       "      <td>...</td>\n",
       "      <td>56</td>\n",
       "      <td>17134</td>\n",
       "      <td>768</td>\n",
       "      <td>0</td>\n",
       "      <td>17134</td>\n",
       "      <td>285</td>\n",
       "      <td>109</td>\n",
       "      <td>0</td>\n",
       "      <td>0</td>\n",
       "      <td>1</td>\n",
       "    </tr>\n",
       "  </tbody>\n",
       "</table>\n",
       "<p>56756 rows × 38 columns</p>\n",
       "</div>"
      ],
      "text/plain": [
       "      EngineVersion       AppVersion  AvSigVersion   Platform Processor  \\\n",
       "0       1.1.15100.1  4.18.1807.18075  1.273.1735.0  windows10       x64   \n",
       "1       1.1.14600.4     4.13.17134.1    1.263.48.0  windows10       x64   \n",
       "2       1.1.15100.1  4.18.1807.18075  1.273.1341.0  windows10       x64   \n",
       "3       1.1.15100.1  4.18.1807.18075  1.273.1527.0  windows10       x64   \n",
       "4       1.1.15100.1  4.18.1807.18075  1.273.1379.0  windows10       x64   \n",
       "...             ...              ...           ...        ...       ...   \n",
       "56751   1.1.15100.1  4.18.1807.18075  1.273.1056.0  windows10       x64   \n",
       "56752   1.1.15100.1  4.18.1807.18075   1.273.689.0  windows10       x64   \n",
       "56753   1.1.15200.1  4.18.1807.18075  1.275.1454.0  windows10       x64   \n",
       "56754   1.1.15100.1  4.18.1807.18075  1.273.1527.0  windows10       x86   \n",
       "56755   1.1.15200.1  4.18.1807.18075  1.275.1573.0  windows10       x64   \n",
       "\n",
       "      OsPlatformSubRelease                                         OsBuildLab  \\\n",
       "0                      rs4           17134.1.amd64fre.rs4_release.180410-1804   \n",
       "1                      rs4           17134.1.amd64fre.rs4_release.180410-1804   \n",
       "2                      rs4           17134.1.amd64fre.rs4_release.180410-1804   \n",
       "3                      rs4           17134.1.amd64fre.rs4_release.180410-1804   \n",
       "4                      rs4           17134.1.amd64fre.rs4_release.180410-1804   \n",
       "...                    ...                                                ...   \n",
       "56751                  rs3  16299.431.amd64fre.rs3_release_svc_escrow.1805...   \n",
       "56752                  rs4           17134.1.amd64fre.rs4_release.180410-1804   \n",
       "56753                  rs4           17134.1.amd64fre.rs4_release.180410-1804   \n",
       "56754                  rs4             17134.1.x86fre.rs4_release.180410-1804   \n",
       "56755                  rs4           17134.1.amd64fre.rs4_release.180410-1804   \n",
       "\n",
       "      SkuEdition   SmartScreen Census_MDC2FormFactor  ...  \\\n",
       "0            Pro           NaN               Desktop  ...   \n",
       "1            Pro           NaN              Notebook  ...   \n",
       "2           Home  RequireAdmin               Desktop  ...   \n",
       "3            Pro  ExistsNotSet               Desktop  ...   \n",
       "4           Home  RequireAdmin              Notebook  ...   \n",
       "...          ...           ...                   ...  ...   \n",
       "56751        Pro           NaN              Notebook  ...   \n",
       "56752       Home  ExistsNotSet              Notebook  ...   \n",
       "56753       Home  RequireAdmin               Desktop  ...   \n",
       "56754        Pro  RequireAdmin               Desktop  ...   \n",
       "56755       Home  RequireAdmin              Notebook  ...   \n",
       "\n",
       "      LocaleEnglishNameIdentifier OsBuild OsSuite Census_HasOpticalDiskDrive  \\\n",
       "0                             171   17134     256                          0   \n",
       "1                              64   17134     256                          0   \n",
       "2                              49   17134     768                          0   \n",
       "3                             115   17134     256                          0   \n",
       "4                              75   17134     768                          0   \n",
       "...                           ...     ...     ...                        ...   \n",
       "56751                         182   16299     256                          0   \n",
       "56752                          75   17134     768                          1   \n",
       "56753                         251   17134     768                          0   \n",
       "56754                          64   17134     256                          0   \n",
       "56755                          56   17134     768                          0   \n",
       "\n",
       "      Census_OSBuildNumber Census_OSBuildRevision Census_OSUILocaleIdentifier  \\\n",
       "0                    17134                    165                         119   \n",
       "1                    17134                      1                          31   \n",
       "2                    17134                    165                          30   \n",
       "3                    17134                    228                          64   \n",
       "4                    17134                    191                          31   \n",
       "...                    ...                    ...                         ...   \n",
       "56751                16299                    547                         125   \n",
       "56752                17134                    165                          31   \n",
       "56753                17134                    285                         148   \n",
       "56754                17134                    228                          31   \n",
       "56755                17134                    285                         109   \n",
       "\n",
       "      Census_IsTouchEnabled Census_IsPenCapable HasDetections  \n",
       "0                         0                   0             0  \n",
       "1                         0                   0             0  \n",
       "2                         0                   0             0  \n",
       "3                         0                   0             1  \n",
       "4                         0                   0             1  \n",
       "...                     ...                 ...           ...  \n",
       "56751                     0                   0             0  \n",
       "56752                     0                   0             1  \n",
       "56753                     0                   0             0  \n",
       "56754                     0                   0             1  \n",
       "56755                     0                   0             1  \n",
       "\n",
       "[56756 rows x 38 columns]"
      ]
     },
     "execution_count": 7,
     "metadata": {},
     "output_type": "execute_result"
    }
   ],
   "source": [
    "corr_df=ms_df[corr_df]\n",
    "corr_df\n"
   ]
  },
  {
   "cell_type": "code",
   "execution_count": 8,
   "metadata": {},
   "outputs": [],
   "source": [
    "y=corr_df[\"HasDetections\"]\n",
    "corr_df.drop(columns=[\"HasDetections\"],inplace=True)\n"
   ]
  },
  {
   "cell_type": "code",
   "execution_count": 9,
   "metadata": {},
   "outputs": [],
   "source": [
    "x_train,x_test,y_train,y_test=train_test_split(corr_df,y,test_size=0.20,random_state=43)"
   ]
  },
  {
   "cell_type": "code",
   "execution_count": 10,
   "metadata": {},
   "outputs": [],
   "source": [
    "## missing values for cont\n",
    "## edokati adulo em levu\n",
    "for col in x_train:\n",
    "    if x_train[col].dtype==\"int64\" or x_train[col].dtype==\"float64\":\n",
    "        x_train[col].fillna(x_train[col].mean(),inplace=True)\n",
    "        x_test[col].fillna"
   ]
  },
  {
   "cell_type": "code",
   "execution_count": 13,
   "metadata": {},
   "outputs": [],
   "source": [
    "drop=list(x_test.isnull().sum()[(x_test.isnull().sum()>200)].index)\n",
    "x_test.drop(columns=drop,inplace=True)\n",
    "x_train.drop(columns=drop,inplace=True)"
   ]
  },
  {
   "cell_type": "code",
   "execution_count": 14,
   "metadata": {},
   "outputs": [],
   "source": [
    "##v scaling cont columns\n",
    "scaler=StandardScaler()\n",
    "cont=[i for i in x_train if x_train[i].dtype==\"int64\" or  x_train[i].dtype==\"float64\"]\n",
    "for col in cont:\n",
    "    x_train[col]=scaler.fit_transform(np.array(x_train[col]).reshape(-1,1)) #fit transform-->>takes train data  mean\n",
    "    x_test[col]=scaler.transform(np.array(x_test[col]).reshape(-1,1))       ## transform --> takes mean from train mean\n",
    "      \n",
    "\n",
    "    \n"
   ]
  },
  {
   "cell_type": "code",
   "execution_count": null,
   "metadata": {},
   "outputs": [],
   "source": [
    "x_train[cont]"
   ]
  },
  {
   "cell_type": "code",
   "execution_count": 39,
   "metadata": {},
   "outputs": [],
   "source": [
    "## onehot encoding for cat columns\n",
    "cat=[i for i in x_train if x_train[i].dtype==\"object\"]\n",
    "oe_train=pd.get_dummies(x_train[cat])\n",
    "oe_test=pd.get_dummies(x_test[cat])"
   ]
  },
  {
   "cell_type": "code",
   "execution_count": 40,
   "metadata": {},
   "outputs": [],
   "source": [
    "final_train,final_test=oe_train.align(oe_test,join=\"inner\",axis=1)"
   ]
  },
  {
   "cell_type": "code",
   "execution_count": 45,
   "metadata": {},
   "outputs": [],
   "source": [
    "final_trains=pd.concat([x_train[cont],final_train],axis=1)\n",
    "final_tests=pd.concat([x_test[cont],final_test],axis=1)"
   ]
  },
  {
   "cell_type": "code",
   "execution_count": 49,
   "metadata": {},
   "outputs": [],
   "source": [
    "harsha=LogisticRegression()\n",
    "harsha.fit(final_trains,y_train)\n",
    "test_pred=harsha.predict(final_tests)"
   ]
  },
  {
   "cell_type": "code",
   "execution_count": 52,
   "metadata": {},
   "outputs": [
    {
     "data": {
      "text/plain": [
       "0.563953488372093"
      ]
     },
     "execution_count": 52,
     "metadata": {},
     "output_type": "execute_result"
    }
   ],
   "source": [
    "## test accuracy\n",
    "accuracy_score(test_pred,y_test)\n"
   ]
  },
  {
   "cell_type": "code",
   "execution_count": 53,
   "metadata": {},
   "outputs": [
    {
     "data": {
      "text/plain": [
       "0.6101004316800281"
      ]
     },
     "execution_count": 53,
     "metadata": {},
     "output_type": "execute_result"
    }
   ],
   "source": [
    "## train acc\n",
    "train_pred=harsha.predict(final_trains)\n",
    "accuracy_score(train_pred,y_train)"
   ]
  },
  {
   "cell_type": "code",
   "execution_count": 54,
   "metadata": {},
   "outputs": [
    {
     "data": {
      "text/plain": [
       "0.5643580800531474"
      ]
     },
     "execution_count": 54,
     "metadata": {},
     "output_type": "execute_result"
    }
   ],
   "source": [
    "recall_score(test_pred,y_test)"
   ]
  },
  {
   "cell_type": "code",
   "execution_count": 55,
   "metadata": {},
   "outputs": [
    {
     "data": {
      "text/plain": [
       "0.5935371179039302"
      ]
     },
     "execution_count": 55,
     "metadata": {},
     "output_type": "execute_result"
    }
   ],
   "source": [
    "precision_score(test_pred,y_test)"
   ]
  },
  {
   "cell_type": "code",
   "execution_count": 56,
   "metadata": {},
   "outputs": [
    {
     "data": {
      "text/plain": [
       "0.5785799421079517"
      ]
     },
     "execution_count": 56,
     "metadata": {},
     "output_type": "execute_result"
    }
   ],
   "source": [
    "f1_score(test_pred,y_test)"
   ]
  },
  {
   "cell_type": "code",
   "execution_count": 98,
   "metadata": {},
   "outputs": [],
   "source": [
    "pos_probs=harsha.predict_proba(final_tests)[::,1]\n",
    "#fpr,tpr,threshold=roc_curve(y_test,pos_probs)"
   ]
  },
  {
   "cell_type": "code",
   "execution_count": 104,
   "metadata": {},
   "outputs": [
    {
     "data": {
      "text/plain": [
       "array([0.33053575, 0.41942336, 0.29622528, ..., 0.62630501, 0.70463162,\n",
       "       0.57983528])"
      ]
     },
     "execution_count": 104,
     "metadata": {},
     "output_type": "execute_result"
    }
   ],
   "source": [
    "new=harsha.predict_proba(final_tests)\n"
   ]
  },
  {
   "cell_type": "code",
   "execution_count": 103,
   "metadata": {},
   "outputs": [
    {
     "data": {
      "text/plain": [
       "array([0.33053575, 0.41942336, 0.29622528, ..., 0.62630501, 0.70463162,\n",
       "       0.57983528])"
      ]
     },
     "execution_count": 103,
     "metadata": {},
     "output_type": "execute_result"
    }
   ],
   "source": [
    "new[::,1]"
   ]
  },
  {
   "cell_type": "code",
   "execution_count": 66,
   "metadata": {},
   "outputs": [
    {
     "data": {
      "text/plain": [
       "([<matplotlib.lines.Line2D at 0x17f8093c9a0>], 0.5907206287837105)"
      ]
     },
     "execution_count": 66,
     "metadata": {},
     "output_type": "execute_result"
    },
    {
     "data": {
      "image/png": "[encoded data removed]",
      "text/plain": [
       "<Figure size 432x288 with 1 Axes>"
      ]
     },
     "metadata": {
      "needs_background": "light"
     },
     "output_type": "display_data"
    }
   ],
   "source": [
    "plt.plot(fpr,tpr),roc_auc_score(y_test,pos_probs)"
   ]
  },
  {
   "cell_type": "code",
   "execution_count": null,
   "metadata": {},
   "outputs": [],
   "source": [
    "## decission tree chuddam hm ok "
   ]
  },
  {
   "cell_type": "code",
   "execution_count": 67,
   "metadata": {},
   "outputs": [],
   "source": [
    "from sklearn.tree import DecisionTreeClassifier\n",
    "assumptions\n",
    "--> linear relationship \n",
    "--> no multydfsgahj\n",
    "->no hetrosesedicuchcyd\n",
    "--> exists homoseducticity"
   ]
  },
  {
   "cell_type": "code",
   "execution_count": 115,
   "metadata": {},
   "outputs": [],
   "source": [
    "teja=DecisionTreeClassifier(max_depth=75)\n",
    "teja.fit(final_trains,y_train)\n",
    "teja_test_pred=teja.predict(final_tests)"
   ]
  },
  {
   "cell_type": "code",
   "execution_count": 118,
   "metadata": {},
   "outputs": [
    {
     "data": {
      "text/plain": [
       "0.5326814658210007"
      ]
     },
     "execution_count": 118,
     "metadata": {},
     "output_type": "execute_result"
    }
   ],
   "source": [
    "## dt test accuracy\n",
    "accuracy_score(teja_test_pred,y_test)"
   ]
  },
  {
   "cell_type": "code",
   "execution_count": 116,
   "metadata": {},
   "outputs": [
    {
     "data": {
      "text/plain": [
       "0.9832613866619682"
      ]
     },
     "execution_count": 116,
     "metadata": {},
     "output_type": "execute_result"
    }
   ],
   "source": [
    "## train acc\n",
    "teja_train_pred=teja.predict(final_trains)\n",
    "accuracy_score(teja_train_pred,y_train)"
   ]
  },
  {
   "cell_type": "code",
   "execution_count": null,
   "metadata": {},
   "outputs": [],
   "source": [
    "#DT    \n",
    "#dtc---both-- max ig,op cat ip cont---max ig\n",
    "#dtr---var red ip op cont op-var,x5--x1------var red\n",
    "#leaf node ---0  entorpy less entropy    max depth\n",
    "\n"
   ]
  },
  {
   "cell_type": "code",
   "execution_count": null,
   "metadata": {},
   "outputs": [],
   "source": [
    "# random forest\n"
   ]
  },
  {
   "cell_type": "code",
   "execution_count": null,
   "metadata": {},
   "outputs": [],
   "source": []
  },
  {
   "cell_type": "code",
   "execution_count": null,
   "metadata": {},
   "outputs": [],
   "source": []
  },
  {
   "cell_type": "code",
   "execution_count": null,
   "metadata": {},
   "outputs": [],
   "source": []
  },
  {
   "cell_type": "code",
   "execution_count": null,
   "metadata": {},
   "outputs": [],
   "source": []
  },
  {
   "cell_type": "code",
   "execution_count": null,
   "metadata": {},
   "outputs": [],
   "source": []
  },
  {
   "cell_type": "code",
   "execution_count": null,
   "metadata": {},
   "outputs": [],
   "source": []
  },
  {
   "cell_type": "code",
   "execution_count": null,
   "metadata": {},
   "outputs": [],
   "source": []
  }
 ],
 "metadata": {
  "kernelspec": {
   "display_name": "Python 3",
   "language": "python",
   "name": "python3"
  },
  "language_info": {
   "codemirror_mode": {
    "name": "ipython",
    "version": 3
   },
   "file_extension": ".py",
   "mimetype": "text/x-python",
   "name": "python",
   "nbconvert_exporter": "python",
   "pygments_lexer": "ipython3",
   "version": "3.8.5"
  }
 },
 "nbformat": 4,
 "nbformat_minor": 4
}
